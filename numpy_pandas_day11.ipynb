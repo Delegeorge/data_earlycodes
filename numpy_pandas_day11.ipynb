{
 "cells": [
  {
   "cell_type": "code",
   "execution_count": 2,
   "id": "6ec1b2a4-4eb9-4fee-bb8e-4f9e0e962d2b",
   "metadata": {},
   "outputs": [],
   "source": [
    "# steps in data analysis and data science\n",
    "# get information about the bussiness or the organization\n",
    "# know the problem\n",
    "# getting the right data\n",
    "#exploratory data analysis (EDA)\n",
    "    # data cleaning\n",
    "    # data transformation\n",
    "    # descriptive analysis (python, powerbi, tableau)\n",
    "    # data visualization (python, powerbi, tableau)\n",
    "# machine learning (python) (linear regression, binary classificatiion, multi classification, clustering, text or sentiment analysis)\n",
    "    # preprocessing\n",
    "    # model building\n",
    "    # evaluation (verification)\n",
    "    # model development\n",
    "# deep learniung"
   ]
  },
  {
   "cell_type": "markdown",
   "id": "1fba5ecb-ee48-4ea4-95f9-c642a0057e60",
   "metadata": {},
   "source": [
    "# modules"
   ]
  },
  {
   "cell_type": "code",
   "execution_count": 2,
   "id": "82e13f59-1ca5-4873-9370-f00326cb6b54",
   "metadata": {},
   "outputs": [
    {
     "name": "stdout",
     "output_type": "stream",
     "text": [
      "['ALLOW_THREADS', 'BUFSIZE', 'CLIP', 'DataSource', 'ERR_CALL', 'ERR_DEFAULT', 'ERR_IGNORE', 'ERR_LOG', 'ERR_PRINT', 'ERR_RAISE', 'ERR_WARN', 'FLOATING_POINT_SUPPORT', 'FPE_DIVIDEBYZERO', 'FPE_INVALID', 'FPE_OVERFLOW', 'FPE_UNDERFLOW', 'False_', 'Inf', 'Infinity', 'MAXDIMS', 'MAY_SHARE_BOUNDS', 'MAY_SHARE_EXACT', 'NAN', 'NINF', 'NZERO', 'NaN', 'PINF', 'PZERO', 'RAISE', 'RankWarning', 'SHIFT_DIVIDEBYZERO', 'SHIFT_INVALID', 'SHIFT_OVERFLOW', 'SHIFT_UNDERFLOW', 'ScalarType', 'True_', 'UFUNC_BUFSIZE_DEFAULT', 'UFUNC_PYVALS_NAME', 'WRAP', '_CopyMode', '_NoValue', '_UFUNC_API', '__NUMPY_SETUP__', '__all__', '__builtins__', '__cached__', '__config__', '__deprecated_attrs__', '__dir__', '__doc__', '__expired_functions__', '__file__', '__former_attrs__', '__future_scalars__', '__getattr__', '__loader__', '__name__', '__package__', '__path__', '__spec__', '__version__', '_add_newdoc_ufunc', '_builtins', '_distributor_init', '_financial_names', '_get_promotion_state', '_globals', '_int_extended_msg', '_mat', '_no_nep50_warning', '_pyinstaller_hooks_dir', '_pytesttester', '_set_promotion_state', '_specific_msg', '_typing', '_using_numpy2_behavior', '_utils', 'abs', 'absolute', 'add', 'add_docstring', 'add_newdoc', 'add_newdoc_ufunc', 'all', 'allclose', 'alltrue', 'amax', 'amin', 'angle', 'any', 'append', 'apply_along_axis', 'apply_over_axes', 'arange', 'arccos', 'arccosh', 'arcsin', 'arcsinh', 'arctan', 'arctan2', 'arctanh', 'argmax', 'argmin', 'argpartition', 'argsort', 'argwhere', 'around', 'array', 'array2string', 'array_equal', 'array_equiv', 'array_repr', 'array_split', 'array_str', 'asanyarray', 'asarray', 'asarray_chkfinite', 'ascontiguousarray', 'asfarray', 'asfortranarray', 'asmatrix', 'atleast_1d', 'atleast_2d', 'atleast_3d', 'average', 'bartlett', 'base_repr', 'binary_repr', 'bincount', 'bitwise_and', 'bitwise_not', 'bitwise_or', 'bitwise_xor', 'blackman', 'block', 'bmat', 'bool_', 'broadcast', 'broadcast_arrays', 'broadcast_shapes', 'broadcast_to', 'busday_count', 'busday_offset', 'busdaycalendar', 'byte', 'byte_bounds', 'bytes_', 'c_', 'can_cast', 'cast', 'cbrt', 'cdouble', 'ceil', 'cfloat', 'char', 'character', 'chararray', 'choose', 'clip', 'clongdouble', 'clongfloat', 'column_stack', 'common_type', 'compare_chararrays', 'compat', 'complex128', 'complex64', 'complex_', 'complexfloating', 'compress', 'concatenate', 'conj', 'conjugate', 'convolve', 'copy', 'copysign', 'copyto', 'corrcoef', 'correlate', 'cos', 'cosh', 'count_nonzero', 'cov', 'cross', 'csingle', 'ctypeslib', 'cumprod', 'cumproduct', 'cumsum', 'datetime64', 'datetime_as_string', 'datetime_data', 'deg2rad', 'degrees', 'delete', 'deprecate', 'deprecate_with_doc', 'diag', 'diag_indices', 'diag_indices_from', 'diagflat', 'diagonal', 'diff', 'digitize', 'disp', 'divide', 'divmod', 'dot', 'double', 'dsplit', 'dstack', 'dtype', 'dtypes', 'e', 'ediff1d', 'einsum', 'einsum_path', 'emath', 'empty', 'empty_like', 'equal', 'errstate', 'euler_gamma', 'exceptions', 'exp', 'exp2', 'expand_dims', 'expm1', 'extract', 'eye', 'fabs', 'fastCopyAndTranspose', 'fft', 'fill_diagonal', 'find_common_type', 'finfo', 'fix', 'flatiter', 'flatnonzero', 'flexible', 'flip', 'fliplr', 'flipud', 'float16', 'float32', 'float64', 'float_', 'float_power', 'floating', 'floor', 'floor_divide', 'fmax', 'fmin', 'fmod', 'format_float_positional', 'format_float_scientific', 'format_parser', 'frexp', 'from_dlpack', 'frombuffer', 'fromfile', 'fromfunction', 'fromiter', 'frompyfunc', 'fromregex', 'fromstring', 'full', 'full_like', 'gcd', 'generic', 'genfromtxt', 'geomspace', 'get_array_wrap', 'get_include', 'get_printoptions', 'getbufsize', 'geterr', 'geterrcall', 'geterrobj', 'gradient', 'greater', 'greater_equal', 'half', 'hamming', 'hanning', 'heaviside', 'histogram', 'histogram2d', 'histogram_bin_edges', 'histogramdd', 'hsplit', 'hstack', 'hypot', 'i0', 'identity', 'iinfo', 'imag', 'in1d', 'index_exp', 'indices', 'inexact', 'inf', 'info', 'infty', 'inner', 'insert', 'int16', 'int32', 'int64', 'int8', 'int_', 'intc', 'integer', 'interp', 'intersect1d', 'intp', 'invert', 'is_busday', 'isclose', 'iscomplex', 'iscomplexobj', 'isfinite', 'isfortran', 'isin', 'isinf', 'isnan', 'isnat', 'isneginf', 'isposinf', 'isreal', 'isrealobj', 'isscalar', 'issctype', 'issubclass_', 'issubdtype', 'issubsctype', 'iterable', 'ix_', 'kaiser', 'kron', 'lcm', 'ldexp', 'left_shift', 'less', 'less_equal', 'lexsort', 'lib', 'linalg', 'linspace', 'little_endian', 'load', 'loadtxt', 'log', 'log10', 'log1p', 'log2', 'logaddexp', 'logaddexp2', 'logical_and', 'logical_not', 'logical_or', 'logical_xor', 'logspace', 'longcomplex', 'longdouble', 'longfloat', 'longlong', 'lookfor', 'ma', 'mask_indices', 'mat', 'matmul', 'matrix', 'max', 'maximum', 'maximum_sctype', 'may_share_memory', 'mean', 'median', 'memmap', 'meshgrid', 'mgrid', 'min', 'min_scalar_type', 'minimum', 'mintypecode', 'mod', 'modf', 'moveaxis', 'msort', 'multiply', 'nan', 'nan_to_num', 'nanargmax', 'nanargmin', 'nancumprod', 'nancumsum', 'nanmax', 'nanmean', 'nanmedian', 'nanmin', 'nanpercentile', 'nanprod', 'nanquantile', 'nanstd', 'nansum', 'nanvar', 'nbytes', 'ndarray', 'ndenumerate', 'ndim', 'ndindex', 'nditer', 'negative', 'nested_iters', 'newaxis', 'nextafter', 'nonzero', 'not_equal', 'numarray', 'number', 'obj2sctype', 'object_', 'ogrid', 'oldnumeric', 'ones', 'ones_like', 'outer', 'packbits', 'pad', 'partition', 'percentile', 'pi', 'piecewise', 'place', 'poly', 'poly1d', 'polyadd', 'polyder', 'polydiv', 'polyfit', 'polyint', 'polymul', 'polynomial', 'polysub', 'polyval', 'positive', 'power', 'printoptions', 'prod', 'product', 'promote_types', 'ptp', 'put', 'put_along_axis', 'putmask', 'quantile', 'r_', 'rad2deg', 'radians', 'random', 'ravel', 'ravel_multi_index', 'real', 'real_if_close', 'rec', 'recarray', 'recfromcsv', 'recfromtxt', 'reciprocal', 'record', 'remainder', 'repeat', 'require', 'reshape', 'resize', 'result_type', 'right_shift', 'rint', 'roll', 'rollaxis', 'roots', 'rot90', 'round', 'round_', 'row_stack', 's_', 'safe_eval', 'save', 'savetxt', 'savez', 'savez_compressed', 'sctype2char', 'sctypeDict', 'sctypes', 'searchsorted', 'select', 'set_numeric_ops', 'set_printoptions', 'set_string_function', 'setbufsize', 'setdiff1d', 'seterr', 'seterrcall', 'seterrobj', 'setxor1d', 'shape', 'shares_memory', 'short', 'show_config', 'show_runtime', 'sign', 'signbit', 'signedinteger', 'sin', 'sinc', 'single', 'singlecomplex', 'sinh', 'size', 'sometrue', 'sort', 'sort_complex', 'source', 'spacing', 'split', 'sqrt', 'square', 'squeeze', 'stack', 'std', 'str_', 'string_', 'subtract', 'sum', 'swapaxes', 'take', 'take_along_axis', 'tan', 'tanh', 'tensordot', 'test', 'testing', 'tile', 'timedelta64', 'trace', 'tracemalloc_domain', 'transpose', 'trapz', 'tri', 'tril', 'tril_indices', 'tril_indices_from', 'trim_zeros', 'triu', 'triu_indices', 'triu_indices_from', 'true_divide', 'trunc', 'typecodes', 'typename', 'ubyte', 'ufunc', 'uint', 'uint16', 'uint32', 'uint64', 'uint8', 'uintc', 'uintp', 'ulonglong', 'unicode_', 'union1d', 'unique', 'unpackbits', 'unravel_index', 'unsignedinteger', 'unwrap', 'ushort', 'vander', 'var', 'vdot', 'vectorize', 'version', 'void', 'vsplit', 'vstack', 'where', 'who', 'zeros', 'zeros_like']\n"
     ]
    }
   ],
   "source": [
    "# numpy : numerical python\n",
    "import numpy as np\n",
    "print(dir(np))"
   ]
  },
  {
   "cell_type": "code",
   "execution_count": 4,
   "id": "6a0f56a4-8d31-426c-895f-17823992667d",
   "metadata": {},
   "outputs": [
    {
     "data": {
      "text/plain": [
       "array([75, 85, 60, 47])"
      ]
     },
     "execution_count": 4,
     "metadata": {},
     "output_type": "execute_result"
    }
   ],
   "source": [
    "# one dimensional array\n",
    "arr1 = np.array([75,85,60,47])\n",
    "arr1"
   ]
  },
  {
   "cell_type": "code",
   "execution_count": 5,
   "id": "7071f6e9-1850-46d3-89a2-c510c87d47fd",
   "metadata": {},
   "outputs": [
    {
     "data": {
      "text/plain": [
       "1"
      ]
     },
     "execution_count": 5,
     "metadata": {},
     "output_type": "execute_result"
    }
   ],
   "source": [
    "arr1.ndim # checking the numbers of array dimention"
   ]
  },
  {
   "cell_type": "code",
   "execution_count": 6,
   "id": "34ed40f4-cb6d-4cc1-8996-d5a6868384db",
   "metadata": {},
   "outputs": [
    {
     "data": {
      "text/plain": [
       "(4,)"
      ]
     },
     "execution_count": 6,
     "metadata": {},
     "output_type": "execute_result"
    }
   ],
   "source": [
    "arr1.shape # checking the shape of the array, it could be two dimentional as a metrix or one dimensional "
   ]
  },
  {
   "cell_type": "code",
   "execution_count": 7,
   "id": "c0b7ac07-874c-4803-a222-b7647c176169",
   "metadata": {},
   "outputs": [
    {
     "data": {
      "text/plain": [
       "dtype('int32')"
      ]
     },
     "execution_count": 7,
     "metadata": {},
     "output_type": "execute_result"
    }
   ],
   "source": [
    "arr1.dtype # checking the data type of the array"
   ]
  },
  {
   "cell_type": "code",
   "execution_count": 10,
   "id": "cc67fca4-881e-4582-a57d-63d5b8259101",
   "metadata": {},
   "outputs": [
    {
     "data": {
      "text/plain": [
       "array([[47, 85, 69, 60],\n",
       "       [80, 85, 64, 90]])"
      ]
     },
     "execution_count": 10,
     "metadata": {},
     "output_type": "execute_result"
    }
   ],
   "source": [
    "# two dimensional array\n",
    "arr2 = np.array([[47,85,69,60],[80,85,64,90]])\n",
    "arr2"
   ]
  },
  {
   "cell_type": "code",
   "execution_count": 11,
   "id": "63ec7730-4594-4e7c-a704-2ee055500241",
   "metadata": {},
   "outputs": [
    {
     "data": {
      "text/plain": [
       "2"
      ]
     },
     "execution_count": 11,
     "metadata": {},
     "output_type": "execute_result"
    }
   ],
   "source": [
    "arr2.ndim"
   ]
  },
  {
   "cell_type": "code",
   "execution_count": 12,
   "id": "c45a57b4-e85d-4ad6-9c6b-dccfb1005fbf",
   "metadata": {},
   "outputs": [
    {
     "data": {
      "text/plain": [
       "(2, 4)"
      ]
     },
     "execution_count": 12,
     "metadata": {},
     "output_type": "execute_result"
    }
   ],
   "source": [
    "arr2.shape"
   ]
  },
  {
   "cell_type": "code",
   "execution_count": 14,
   "id": "99903af1-a26d-455a-88d2-7aea41fb117c",
   "metadata": {},
   "outputs": [
    {
     "data": {
      "text/plain": [
       "dtype('int32')"
      ]
     },
     "execution_count": 14,
     "metadata": {},
     "output_type": "execute_result"
    }
   ],
   "source": [
    "arr2.dtype"
   ]
  },
  {
   "cell_type": "code",
   "execution_count": 15,
   "id": "aec8f5d0-905d-4d8b-9337-ddf6102ff2fa",
   "metadata": {},
   "outputs": [
    {
     "data": {
      "text/plain": [
       "array([0., 0., 0., 0., 0., 0., 0., 0., 0., 0., 0., 0., 0., 0., 0., 0., 0.,\n",
       "       0., 0., 0.])"
      ]
     },
     "execution_count": 15,
     "metadata": {},
     "output_type": "execute_result"
    }
   ],
   "source": [
    "# to create an array where all values are zero\n",
    "np.zeros(20)"
   ]
  },
  {
   "cell_type": "code",
   "execution_count": 16,
   "id": "83dce3c9-4801-40b5-9129-4283192fd48e",
   "metadata": {},
   "outputs": [
    {
     "data": {
      "text/plain": [
       "array([[0., 0., 0., 0., 0.],\n",
       "       [0., 0., 0., 0., 0.],\n",
       "       [0., 0., 0., 0., 0.],\n",
       "       [0., 0., 0., 0., 0.]])"
      ]
     },
     "execution_count": 16,
     "metadata": {},
     "output_type": "execute_result"
    }
   ],
   "source": [
    "# to make it in 4 rows and 5 columns\n",
    "np.zeros((4,5))"
   ]
  },
  {
   "cell_type": "code",
   "execution_count": 17,
   "id": "f9c90a60-ad2d-4956-99aa-ac4de7838a6b",
   "metadata": {},
   "outputs": [
    {
     "data": {
      "text/plain": [
       "array([1., 1., 1., 1., 1., 1., 1., 1., 1., 1., 1., 1., 1., 1., 1., 1., 1.,\n",
       "       1., 1., 1., 1., 1., 1., 1., 1., 1., 1., 1., 1., 1., 1., 1., 1., 1.,\n",
       "       1., 1., 1., 1., 1., 1., 1., 1., 1., 1., 1., 1., 1., 1., 1., 1., 1.,\n",
       "       1., 1., 1., 1., 1., 1., 1., 1., 1.])"
      ]
     },
     "execution_count": 17,
     "metadata": {},
     "output_type": "execute_result"
    }
   ],
   "source": [
    "# to create an array where all values are one\n",
    "np.ones(60)"
   ]
  },
  {
   "cell_type": "code",
   "execution_count": 18,
   "id": "a6d26b0a-8d4e-4ada-9062-c0c2d6e00d4c",
   "metadata": {},
   "outputs": [
    {
     "data": {
      "text/plain": [
       "array([[1., 1., 1., 1., 1.],\n",
       "       [1., 1., 1., 1., 1.],\n",
       "       [1., 1., 1., 1., 1.],\n",
       "       [1., 1., 1., 1., 1.],\n",
       "       [1., 1., 1., 1., 1.]])"
      ]
     },
     "execution_count": 18,
     "metadata": {},
     "output_type": "execute_result"
    }
   ],
   "source": [
    "np.ones((5,5))"
   ]
  },
  {
   "cell_type": "code",
   "execution_count": 19,
   "id": "fdbdbfcb-608c-41c0-9a5c-28d5899f30a3",
   "metadata": {},
   "outputs": [
    {
     "data": {
      "text/plain": [
       "array([15., 15., 15., 15., 15., 15., 15., 15., 15., 15., 15., 15., 15.,\n",
       "       15., 15., 15., 15., 15., 15., 15., 15., 15., 15., 15., 15., 15.,\n",
       "       15., 15., 15., 15., 15., 15., 15., 15., 15., 15., 15., 15., 15.,\n",
       "       15., 15., 15., 15., 15., 15., 15., 15., 15., 15., 15.])"
      ]
     },
     "execution_count": 19,
     "metadata": {},
     "output_type": "execute_result"
    }
   ],
   "source": [
    "# to create an array where all values are any other number aside zero or one \n",
    "np.ones(50) * 15"
   ]
  },
  {
   "cell_type": "code",
   "execution_count": 20,
   "id": "40fe9d70-c3a8-44c5-aa61-b28ba10ea402",
   "metadata": {},
   "outputs": [
    {
     "data": {
      "text/plain": [
       "array([[15., 15., 15., 15., 15.],\n",
       "       [15., 15., 15., 15., 15.],\n",
       "       [15., 15., 15., 15., 15.],\n",
       "       [15., 15., 15., 15., 15.],\n",
       "       [15., 15., 15., 15., 15.]])"
      ]
     },
     "execution_count": 20,
     "metadata": {},
     "output_type": "execute_result"
    }
   ],
   "source": [
    "np.ones((5,5)) *  15"
   ]
  },
  {
   "cell_type": "code",
   "execution_count": 21,
   "id": "0e1e0789-2be8-4177-ae90-40130c54d025",
   "metadata": {},
   "outputs": [
    {
     "data": {
      "text/plain": [
       "array([20.        , 21.42857143, 22.85714286, 24.28571429, 25.71428571,\n",
       "       27.14285714, 28.57142857, 30.        , 31.42857143, 32.85714286,\n",
       "       34.28571429, 35.71428571, 37.14285714, 38.57142857, 40.        ,\n",
       "       41.42857143, 42.85714286, 44.28571429, 45.71428571, 47.14285714,\n",
       "       48.57142857, 50.        , 51.42857143, 52.85714286, 54.28571429,\n",
       "       55.71428571, 57.14285714, 58.57142857, 60.        , 61.42857143,\n",
       "       62.85714286, 64.28571429, 65.71428571, 67.14285714, 68.57142857,\n",
       "       70.        , 71.42857143, 72.85714286, 74.28571429, 75.71428571,\n",
       "       77.14285714, 78.57142857, 80.        , 81.42857143, 82.85714286,\n",
       "       84.28571429, 85.71428571, 87.14285714, 88.57142857, 90.        ])"
      ]
     },
     "execution_count": 21,
     "metadata": {},
     "output_type": "execute_result"
    }
   ],
   "source": [
    "# linspace: generating an array that are evenly space but the condition is you must set the interval\n",
    "np.linspace(20,90)"
   ]
  },
  {
   "cell_type": "code",
   "execution_count": 22,
   "id": "ff6e230c-6e02-4a3d-8211-f29dc6cd416a",
   "metadata": {},
   "outputs": [
    {
     "data": {
      "text/plain": [
       "array([[1., 0., 0., 0., 0., 0.],\n",
       "       [0., 1., 0., 0., 0., 0.],\n",
       "       [0., 0., 1., 0., 0., 0.],\n",
       "       [0., 0., 0., 1., 0., 0.],\n",
       "       [0., 0., 0., 0., 1., 0.],\n",
       "       [0., 0., 0., 0., 0., 1.]])"
      ]
     },
     "execution_count": 22,
     "metadata": {},
     "output_type": "execute_result"
    }
   ],
   "source": [
    "# eye: create a two dimestional array having zero elsewhere and ones in diagonal\n",
    "np.eye(6)"
   ]
  },
  {
   "cell_type": "code",
   "execution_count": 23,
   "id": "8d65c271-48b0-4d1b-a47a-779d579592ce",
   "metadata": {},
   "outputs": [
    {
     "data": {
      "text/plain": [
       "array([  1,   2,   3,   4,   5,   6,   7,   8,   9,  10,  11,  12,  13,\n",
       "        14,  15,  16,  17,  18,  19,  20,  21,  22,  23,  24,  25,  26,\n",
       "        27,  28,  29,  30,  31,  32,  33,  34,  35,  36,  37,  38,  39,\n",
       "        40,  41,  42,  43,  44,  45,  46,  47,  48,  49,  50,  51,  52,\n",
       "        53,  54,  55,  56,  57,  58,  59,  60,  61,  62,  63,  64,  65,\n",
       "        66,  67,  68,  69,  70,  71,  72,  73,  74,  75,  76,  77,  78,\n",
       "        79,  80,  81,  82,  83,  84,  85,  86,  87,  88,  89,  90,  91,\n",
       "        92,  93,  94,  95,  96,  97,  98,  99, 100])"
      ]
     },
     "execution_count": 23,
     "metadata": {},
     "output_type": "execute_result"
    }
   ],
   "source": [
    "# arange (array range) to generate some numbers\n",
    "arr4 = np.arange(1,101)\n",
    "arr4"
   ]
  },
  {
   "cell_type": "code",
   "execution_count": 25,
   "id": "afcf805a-5d63-497a-9607-6d86086b1231",
   "metadata": {},
   "outputs": [
    {
     "data": {
      "text/plain": [
       "array([ 1,  6, 11, 16, 21, 26, 31, 36, 41, 46, 51, 56, 61, 66, 71, 76, 81,\n",
       "       86, 91, 96])"
      ]
     },
     "execution_count": 25,
     "metadata": {},
     "output_type": "execute_result"
    }
   ],
   "source": [
    "# to create an array based on specified interval (interval of 5)\n",
    "arr4 = np.arange(1,101,5) \n",
    "arr4"
   ]
  },
  {
   "cell_type": "code",
   "execution_count": 26,
   "id": "3be838bc-b0df-4535-b521-65143270848e",
   "metadata": {},
   "outputs": [
    {
     "data": {
      "text/plain": [
       "array([ 15,  89, 103,  25,  80,  82,  76,  92,  43,  17,  20,  55, 104,\n",
       "        79,  33,  50,  53, 104, 104,  54,  15,  25,  37,  71,  41,  91,\n",
       "       101,  84,  77,  97,  50,  27,  61,  27,  43,  94,  84,  48,  27,\n",
       "        84,  70,  36,  81,  88,  33,  60,  92, 102,  33, 104,  16,  57,\n",
       "       100,  75,  77,  49,  72,  64,  18, 103,  56,  95,  42, 100,  56,\n",
       "        16,  69,  24,  98,  42,  99,  20,  98,  46,  84,  62,  43,  69,\n",
       "        49,  52,  89,  67,  36,  96,  66,  47,  25,  81,  60,  97,  56,\n",
       "        24,  95,  59,  66,  28,  33,  83,  50,  99])"
      ]
     },
     "execution_count": 26,
     "metadata": {},
     "output_type": "execute_result"
    }
   ],
   "source": [
    "# to generate any random numbers: start from 15, stop at 105 and the total number is 100\n",
    "arr5 = np.random.randint(15,105,100)\n",
    "arr5"
   ]
  },
  {
   "cell_type": "code",
   "execution_count": 27,
   "id": "f2090981-3f69-499e-b8df-cdca68a1ab5d",
   "metadata": {},
   "outputs": [
    {
     "data": {
      "text/plain": [
       "array([ 93,  76,  31,  88,  23,  77,  42,  45,  95,  22,  91,  30,  68,\n",
       "        95,  42,  59,  92,  90,  80,  62,  45,  99, 101,  33,  24,  56,\n",
       "        77,  16,  97,  31,  93,  20,  73,  15,  95,  19,  51,  66,  42,\n",
       "        46,  17,  83,  53,  98,  34,  33,  22,  45,  77,  26,  82,  80,\n",
       "        70,  18,  93,  42,  44,  48, 104, 100,  22,  31,  29,  46,  24,\n",
       "        53,  62,  31,  20,  49,  60,  74,  39,  28,  46,  47,  91,  59,\n",
       "        20,  29,  62,  97,  15,  22, 101,  31,  79,  23,  59,  52,  90,\n",
       "        20,  37,  67,  84,  97,  75,  44, 103,  94])"
      ]
     },
     "execution_count": 27,
     "metadata": {},
     "output_type": "execute_result"
    }
   ],
   "source": [
    "# seed: helps everybody to have the same randon number\n",
    "np.random.seed(5)\n",
    "arr5 = np.random.randint(15,105,100)\n",
    "arr5"
   ]
  },
  {
   "cell_type": "code",
   "execution_count": 28,
   "id": "c310b3e4-e528-4f4b-9dbe-67fcf92f3df7",
   "metadata": {},
   "outputs": [
    {
     "data": {
      "text/plain": [
       "array([[ 93,  76,  31,  88,  23,  77,  42,  45,  95,  22],\n",
       "       [ 91,  30,  68,  95,  42,  59,  92,  90,  80,  62],\n",
       "       [ 45,  99, 101,  33,  24,  56,  77,  16,  97,  31],\n",
       "       [ 93,  20,  73,  15,  95,  19,  51,  66,  42,  46],\n",
       "       [ 17,  83,  53,  98,  34,  33,  22,  45,  77,  26],\n",
       "       [ 82,  80,  70,  18,  93,  42,  44,  48, 104, 100],\n",
       "       [ 22,  31,  29,  46,  24,  53,  62,  31,  20,  49],\n",
       "       [ 60,  74,  39,  28,  46,  47,  91,  59,  20,  29],\n",
       "       [ 62,  97,  15,  22, 101,  31,  79,  23,  59,  52],\n",
       "       [ 90,  20,  37,  67,  84,  97,  75,  44, 103,  94]])"
      ]
     },
     "execution_count": 28,
     "metadata": {},
     "output_type": "execute_result"
    }
   ],
   "source": [
    "# to convert one dimension array to two dimension array\n",
    "arr6 = arr5.reshape(10,10)\n",
    "arr6"
   ]
  },
  {
   "cell_type": "code",
   "execution_count": 29,
   "id": "313acdb9-e695-4d1d-b10c-ee3d7ea0b88f",
   "metadata": {},
   "outputs": [
    {
     "data": {
      "text/plain": [
       "33"
      ]
     },
     "execution_count": 29,
     "metadata": {},
     "output_type": "execute_result"
    }
   ],
   "source": [
    "# selecting values from 2d array\n",
    "# to select a particular value: you must know the row and column: remember to count from 0\n",
    "# select the value in row 4, column 5\n",
    "arr6[4,5]"
   ]
  },
  {
   "cell_type": "code",
   "execution_count": 30,
   "id": "ae5dd0e1-27c3-492b-aced-5083360922fa",
   "metadata": {},
   "outputs": [
    {
     "data": {
      "text/plain": [
       "array([[15, 95, 19],\n",
       "       [98, 34, 33],\n",
       "       [18, 93, 42],\n",
       "       [46, 24, 53]])"
      ]
     },
     "execution_count": 30,
     "metadata": {},
     "output_type": "execute_result"
    }
   ],
   "source": [
    "# selecting more than one values from 2d array e.g\n",
    "# select row 3 to row 6 and column 3 to column 5\n",
    "arr6[3:7,3:6]"
   ]
  },
  {
   "cell_type": "code",
   "execution_count": 31,
   "id": "e74e6494-3ffe-427a-8fca-385a8da36766",
   "metadata": {},
   "outputs": [
    {
     "data": {
      "text/plain": [
       "array([[ 93,  76,  31,  88,  23,  77,  42,  45,  95,  22],\n",
       "       [ 91,  30,  68,  95,  42,  59,  92,  90,  80,  62],\n",
       "       [ 45,  99, 101,  33,  24,  56,  77,  16,  97,  31],\n",
       "       [ 93,  20,  73, 100, 100, 100,  51,  66,  42,  46],\n",
       "       [ 17,  83,  53, 100, 100, 100,  22,  45,  77,  26],\n",
       "       [ 82,  80,  70, 100, 100, 100,  44,  48, 104, 100],\n",
       "       [ 22,  31,  29, 100, 100, 100,  62,  31,  20,  49],\n",
       "       [ 60,  74,  39,  28,  46,  47,  91,  59,  20,  29],\n",
       "       [ 62,  97,  15,  22, 101,  31,  79,  23,  59,  52],\n",
       "       [ 90,  20,  37,  67,  84,  97,  75,  44, 103,  94]])"
      ]
     },
     "execution_count": 31,
     "metadata": {},
     "output_type": "execute_result"
    }
   ],
   "source": [
    "# broadcasting: applying a value in a selected value\n",
    "arr6[3:7,3:6] = 100\n",
    "arr6"
   ]
  },
  {
   "cell_type": "code",
   "execution_count": 32,
   "id": "91115066-6165-48dc-b2b8-f659b11116f6",
   "metadata": {},
   "outputs": [
    {
     "data": {
      "text/plain": [
       "array([ 93,  76,  31,  88,  23,  77,  42,  45,  95,  22,  91,  30,  68,\n",
       "        95,  42,  59,  92,  90,  80,  62,  45,  99, 101,  33,  24,  56,\n",
       "        77,  16,  97,  31,  93,  20,  73, 100, 100, 100,  51,  66,  42,\n",
       "        46,  17,  83,  53, 100, 100, 100,  22,  45,  77,  26,  82,  80,\n",
       "        70, 100, 100, 100,  44,  48, 104, 100,  22,  31,  29, 100, 100,\n",
       "       100,  62,  31,  20,  49,  60,  74,  39,  28,  46,  47,  91,  59,\n",
       "        20,  29,  62,  97,  15,  22, 101,  31,  79,  23,  59,  52,  90,\n",
       "        20,  37,  67,  84,  97,  75,  44, 103,  94])"
      ]
     },
     "execution_count": 32,
     "metadata": {},
     "output_type": "execute_result"
    }
   ],
   "source": [
    "# to convert 2d back to 1d\n",
    "arr7 = arr6.flatten()\n",
    "arr7"
   ]
  },
  {
   "cell_type": "code",
   "execution_count": 33,
   "id": "80a8c5ec-16ab-4f8a-aa2d-8b4e415fc675",
   "metadata": {},
   "outputs": [
    {
     "data": {
      "text/plain": [
       "6311"
      ]
     },
     "execution_count": 33,
     "metadata": {},
     "output_type": "execute_result"
    }
   ],
   "source": [
    "# to know the sum of the array\n",
    "np.sum(arr7)"
   ]
  },
  {
   "cell_type": "code",
   "execution_count": 35,
   "id": "399c6781-6768-4670-b077-914b74d43572",
   "metadata": {},
   "outputs": [
    {
     "data": {
      "text/plain": [
       "104"
      ]
     },
     "execution_count": 35,
     "metadata": {},
     "output_type": "execute_result"
    }
   ],
   "source": [
    "np.max(arr7)"
   ]
  },
  {
   "cell_type": "code",
   "execution_count": 36,
   "id": "eea4a430-36ba-4ff3-a395-168e2cbea9bf",
   "metadata": {},
   "outputs": [
    {
     "data": {
      "text/plain": [
       "15"
      ]
     },
     "execution_count": 36,
     "metadata": {},
     "output_type": "execute_result"
    }
   ],
   "source": [
    "np.min(arr7)"
   ]
  },
  {
   "cell_type": "code",
   "execution_count": 37,
   "id": "0c93f858-5e25-4c04-8264-a953f239f4dc",
   "metadata": {},
   "outputs": [
    {
     "data": {
      "text/plain": [
       "63.11"
      ]
     },
     "execution_count": 37,
     "metadata": {},
     "output_type": "execute_result"
    }
   ],
   "source": [
    "np.mean(arr7)"
   ]
  },
  {
   "cell_type": "code",
   "execution_count": 42,
   "id": "bf0bf2f1-e852-457e-9423-c678e719d973",
   "metadata": {},
   "outputs": [
    {
     "data": {
      "text/plain": [
       "62.0"
      ]
     },
     "execution_count": 42,
     "metadata": {},
     "output_type": "execute_result"
    }
   ],
   "source": [
    "# to check a particular % of the total\n",
    "# check the 50 % of arr7\n",
    "np.percentile(arr7,50)"
   ]
  },
  {
   "cell_type": "code",
   "execution_count": 41,
   "id": "9a937449-e092-4d49-aafb-fb4fe993b621",
   "metadata": {},
   "outputs": [
    {
     "data": {
      "text/plain": [
       "58"
      ]
     },
     "execution_count": 41,
     "metadata": {},
     "output_type": "execute_result"
    }
   ],
   "source": [
    "# to check the location of the first maximum value\n",
    "np.argmax(arr7)"
   ]
  },
  {
   "cell_type": "code",
   "execution_count": 1,
   "id": "be988782-011d-4d18-863d-8c0f2b3aa891",
   "metadata": {},
   "outputs": [
    {
     "ename": "SyntaxError",
     "evalue": "invalid syntax (3818865865.py, line 2)",
     "output_type": "error",
     "traceback": [
      "\u001b[1;36m  Cell \u001b[1;32mIn[1], line 2\u001b[1;36m\u001b[0m\n\u001b[1;33m    domain knowledge\u001b[0m\n\u001b[1;37m           ^\u001b[0m\n\u001b[1;31mSyntaxError\u001b[0m\u001b[1;31m:\u001b[0m invalid syntax\n"
     ]
    }
   ],
   "source": [
    "# to understand data analysis and vitualization, read\n",
    "domain knowledge\n",
    "communication skills\n",
    "problem-solving and critical thinking\n",
    "collaboration and teamwork\n",
    "ethics and data privacy\n",
    "project management\n",
    "bussiness acumen\n",
    "adaptability and continous learning\n",
    "the art of communication\n",
    "tailoring communication to your audience\n",
    "persuasive communication\n",
    "mastering visualization tools\n",
    "choosing the right visuals\n",
    "design principles\n",
    "data storytelling and context\n",
    "emotional intelligence in communication\n",
    "visual story telling\n",
    "using dashboard effectively\n",
    "colour management\n",
    "infographic and interactive reports\n",
    "simplifying complex data\n",
    "use of analogies and metaphors\n",
    "speaking the language of business\n",
    "collaborative tools\n",
    "visualization ethics\n",
    "avaoiding misleading graphs\n",
    "transperency\n",
    "learning from feedback\n",
    "continuos improvment\n",
    "\n",
    "# to understand data science, read\n",
    "descriptive statistics\n",
    "inferential statistics\n",
    "probability distribution\n",
    "central limit theorem\n",
    "hypothesis testing\n",
    "p-values and significance levels\n",
    "confidence intervals\n",
    "correlation and causation\n",
    "regression analysis\n",
    "sampling method\n",
    "bias and variance\n",
    "outliers and thier impacts\n",
    "t-tests and z-tests\n",
    "anova (analysis of variance)\n",
    "data normalization"
   ]
  }
 ],
 "metadata": {
  "kernelspec": {
   "display_name": "Python 3 (ipykernel)",
   "language": "python",
   "name": "python3"
  },
  "language_info": {
   "codemirror_mode": {
    "name": "ipython",
    "version": 3
   },
   "file_extension": ".py",
   "mimetype": "text/x-python",
   "name": "python",
   "nbconvert_exporter": "python",
   "pygments_lexer": "ipython3",
   "version": "3.11.7"
  }
 },
 "nbformat": 4,
 "nbformat_minor": 5
}
